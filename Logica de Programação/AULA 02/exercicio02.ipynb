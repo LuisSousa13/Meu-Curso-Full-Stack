{
 "cells": [
  {
   "cell_type": "code",
   "execution_count": 3,
   "metadata": {},
   "outputs": [
    {
     "name": "stdout",
     "output_type": "stream",
     "text": [
      "Você não está em idade ativa.\n"
     ]
    }
   ],
   "source": [
    "#Questão 1 Peça ao usuario para inserir sua idade.Se a idade for maior que 18 e menor que 65,exiba a mensagem'você está em idade ativa\".caso contrário,exiba\"você não está em idade ativa\"\n",
    "# Solicita ao usuário para inserir sua idade\n",
    "idade = int(input(\"Por favor, insira sua idade: \"))\n",
    "\n",
    "# Verifica se a idade está entre 18 e 65\n",
    "if idade > 18 and idade < 65:\n",
    "    print(\"Você está em idade ativa.\")\n",
    "else:\n",
    "    print(\"Você não está em idade ativa.\")"
   ]
  },
  {
   "cell_type": "code",
   "execution_count": 5,
   "metadata": {},
   "outputs": [
    {
     "name": "stdout",
     "output_type": "stream",
     "text": [
      "O número é par e maior que 10.\n"
     ]
    }
   ],
   "source": [
    "# Questão 2 Verificação de Paridade \n",
    "# Peça ao usuario para inserir um numero.Verifique se o numero é par e maior que 10.\n",
    "numero = int(input(\"Por favor, insira um número: \"))\n",
    "if numero % 2 == 0 and numero > 10:\n",
    "    print(\"O número é par e maior que 10.\")\n",
    "else:\n",
    "    print(\"O número não atende as condições.\")\n"
   ]
  },
  {
   "cell_type": "code",
   "execution_count": 1,
   "metadata": {},
   "outputs": [
    {
     "name": "stdout",
     "output_type": "stream",
     "text": [
      "Aprovado\n"
     ]
    }
   ],
   "source": [
    "# Questão 3 Verificação de Nota\n",
    "nota = float(input(\"Por favor, insira a nota da prova: \"))\n",
    "\n",
    "if nota >= 7 and nota <= 10:\n",
    "    print(\"Aprovado\")\n",
    "elif nota >= 5 and nota < 7:\n",
    "    print(\"Recuperação\")\n",
    "elif nota < 5:\n",
    "    print(\"Reprovado\")"
   ]
  },
  {
   "cell_type": "code",
   "execution_count": 8,
   "metadata": {},
   "outputs": [
    {
     "name": "stdout",
     "output_type": "stream",
     "text": [
      "O número está no intervalo.\n"
     ]
    }
   ],
   "source": [
    "#Questão 4. Verificação de Intervalo\n",
    "#Peça ao usuário para inserir um número.Verifique se o numero está entre 1 e 100,inclusive.Se estiver,exiba\"o numero está no intervalo\".Caso contrario,exiba\"o numero está fora do intervalo\"A\n",
    "\n",
    "numero = float(input(\"Por favor, insira um número: \"))\n",
    "if numero >= 1 and numero <= 100:\n",
    "    print(\"O número está no intervalo.\")\n",
    "else:\n",
    "    print(\"O número está fora do intervalo.\")"
   ]
  },
  {
   "cell_type": "code",
   "execution_count": 10,
   "metadata": {},
   "outputs": [
    {
     "name": "stdout",
     "output_type": "stream",
     "text": [
      "Login bem-sucedido\n"
     ]
    }
   ],
   "source": [
    "#Questão 5. Login Simples\n",
    "nome_usuario = input(\"Por favor, insira o nome de usuário: \")\n",
    "senha = input(\"Por favor, insira a senha: \")\n",
    "if nome_usuario == \"admin\" and senha == \"1234\":\n",
    "    print(\"Login bem-sucedido\")\n",
    "else:\n",
    "    print(\"Nome de usuário ou senha incorretos\")"
   ]
  },
  {
   "cell_type": "code",
   "execution_count": 12,
   "metadata": {},
   "outputs": [
    {
     "name": "stdout",
     "output_type": "stream",
     "text": [
      "Temperatura extrema\n"
     ]
    }
   ],
   "source": [
    "#Questão 6. Avaliação de Temperatura\n",
    "temperatura = float(input(\"Por favor, insira a temperatura: \"))\n",
    "if temperatura > 30:\n",
    "    print(\"Temperatura extrema\")\n",
    "elif temperatura >= 10 and temperatura <= 30:\n",
    "    print(\"Temperatura normal\")"
   ]
  },
  {
   "cell_type": "code",
   "execution_count": 14,
   "metadata": {},
   "outputs": [
    {
     "name": "stdout",
     "output_type": "stream",
     "text": [
      "Você pode votar\n"
     ]
    }
   ],
   "source": [
    "#Questão 7. Verificação de Voto\n",
    "idade = int(input(\"Por favor, insira sua idade: \"))\n",
    "if idade >= 18:\n",
    "    print(\"Você pode votar\")\n",
    "else:\n",
    "    print(\"Você não pode votar\")"
   ]
  },
  {
   "cell_type": "code",
   "execution_count": 25,
   "metadata": {},
   "outputs": [
    {
     "name": "stdout",
     "output_type": "stream",
     "text": [
      "O número está em um dos intervalos.\n"
     ]
    }
   ],
   "source": [
    "# Questão 8. Verificação de Intervalos Múltiplos\n",
    "numero = int(input(\"Por favor, insira um número: \"))\n",
    "if (numero >= 1 and numero <= 10) or (numero >= 20 and numero <= 30):\n",
    "    print(\"O número está em um dos intervalos.\")\n",
    "else:\n",
    "    print(\"O número está fora dos intervalos.\")"
   ]
  },
  {
   "cell_type": "code",
   "execution_count": 31,
   "metadata": {},
   "outputs": [
    {
     "name": "stdout",
     "output_type": "stream",
     "text": [
      "acesso permitido\n"
     ]
    }
   ],
   "source": [
    "# Questão 9. Acesso a Site\n",
    "idade = int(input(\"Por favor, digte sua idade: \"))\n",
    "permissão =(input(\"voce tem permissão dos pais?\"))\n",
    "if idade >= 18 or permissão == 'sim':\n",
    "    print(\"acesso permitido\")\n",
    "else:\n",
    "    print(\"acesso negado\")"
   ]
  },
  {
   "cell_type": "code",
   "execution_count": 34,
   "metadata": {},
   "outputs": [
    {
     "name": "stdout",
     "output_type": "stream",
     "text": [
      "Valor inválido\n"
     ]
    }
   ],
   "source": [
    "#Questão 10. Validação de Entrada\n",
    "valor =float(input(\"Insira um valor:\"))\n",
    "if valor >= 0 and valor % 1 == 0:\n",
    "    print(\"Valor válido\")\n",
    "else:\n",
    "    print(\"Valor inválido\")"
   ]
  }
 ],
 "metadata": {
  "kernelspec": {
   "display_name": "Python 3",
   "language": "python",
   "name": "python3"
  },
  "language_info": {
   "codemirror_mode": {
    "name": "ipython",
    "version": 3
   },
   "file_extension": ".py",
   "mimetype": "text/x-python",
   "name": "python",
   "nbconvert_exporter": "python",
   "pygments_lexer": "ipython3",
   "version": "3.12.3"
  }
 },
 "nbformat": 4,
 "nbformat_minor": 2
}
