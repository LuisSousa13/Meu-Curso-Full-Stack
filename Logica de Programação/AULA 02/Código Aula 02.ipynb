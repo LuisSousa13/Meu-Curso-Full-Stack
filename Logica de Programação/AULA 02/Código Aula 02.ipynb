{
 "cells": [
  {
   "cell_type": "code",
   "execution_count": 2,
   "metadata": {},
   "outputs": [
    {
     "name": "stdout",
     "output_type": "stream",
     "text": [
      "luis carlos\n"
     ]
    }
   ],
   "source": [
    "#Questão 2\n",
    "#faça um programa que peça para o usuario digitar o seu nome e depois mostre-o\n",
    "nome = input(\"Digite seu nome: \")\n",
    "print(nome)"
   ]
  },
  {
   "cell_type": "code",
   "execution_count": 2,
   "metadata": {},
   "outputs": [
    {
     "name": "stdout",
     "output_type": "stream",
     "text": [
      " seu nome é luis carlos, e sua idade 35 anos.\n"
     ]
    }
   ],
   "source": [
    "#escreva um codigo em phyton que solicite ao usuario que informe o nome e depois a idade,por fim,monte uma frase que será mostrada desta maneira:\"Seu nome é X e sua idade é X\"\n",
    "nome = input(\"digite o seu nome: \")\n",
    "idade = int(input(\"Digite a sua idade: \"))\n",
    "print(f\" seu nome é {nome}, e sua idade {idade} anos.\")\n",
    "\n",
    "\n",
    "\n"
   ]
  },
  {
   "cell_type": "code",
   "execution_count": 6,
   "metadata": {},
   "outputs": [
    {
     "name": "stdout",
     "output_type": "stream",
     "text": [
      "A soma de 5.0 e 4.0 é igual a 9.0\n"
     ]
    }
   ],
   "source": [
    "numero1 = float(input(\"Digite o primeiro número: \"))\n",
    "numero2 = float(input(\"Digite o segundo número: \"))\n",
    "soma = numero1 + numero2\n",
    "print(f\"A soma de {numero1} e {numero2} é igual a {soma}\")\n",
    "                      \n",
    "\n"
   ]
  },
  {
   "cell_type": "code",
   "execution_count": 1,
   "metadata": {},
   "outputs": [
    {
     "name": "stdout",
     "output_type": "stream",
     "text": [
      "A temperatura em Fahrenheit é: 68.0\n"
     ]
    }
   ],
   "source": [
    "#Faça um programa que solicite ao usuario para ele informar uma temperatura em graus Celsius,e depois faça a conversão dessa temperatura para Faherenheit usando a fómula F= C*9/5+32.onde \"F\" é o valor convertido para Fahrenheit e \"C\"o valor em Celsius informado pelo usuário.Em seguida,exiba a temperatura em graus Fahrenheit\n",
    "celsius = float(input(\"Informe a temperatura em graus Celsius: \"))\n",
    "fahrenheit = celsius * 9/5 + 32\n",
    "print(\"A temperatura em Fahrenheit é:\", fahrenheit)"
   ]
  }
 ],
 "metadata": {
  "kernelspec": {
   "display_name": "Python 3",
   "language": "python",
   "name": "python3"
  },
  "language_info": {
   "codemirror_mode": {
    "name": "ipython",
    "version": 3
   },
   "file_extension": ".py",
   "mimetype": "text/x-python",
   "name": "python",
   "nbconvert_exporter": "python",
   "pygments_lexer": "ipython3",
   "version": "3.12.3"
  }
 },
 "nbformat": 4,
 "nbformat_minor": 2
}
