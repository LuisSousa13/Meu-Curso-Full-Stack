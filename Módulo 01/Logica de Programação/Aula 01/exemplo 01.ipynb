{
 "cells": [
  {
   "cell_type": "code",
   "execution_count": 8,
   "metadata": {},
   "outputs": [
    {
     "name": "stdout",
     "output_type": "stream",
     "text": [
      "oi\n"
     ]
    }
   ],
   "source": [
    "print(\"oi\")"
   ]
  },
  {
   "cell_type": "code",
   "execution_count": 7,
   "metadata": {},
   "outputs": [
    {
     "name": "stdout",
     "output_type": "stream",
     "text": [
      "qual é o seu nome\n",
      "luis carlos\n"
     ]
    }
   ],
   "source": [
    "print(\"qual é o seu nome\")\n",
    "print(\"luis carlos\")"
   ]
  },
  {
   "cell_type": "code",
   "execution_count": 14,
   "metadata": {},
   "outputs": [],
   "source": [
    "#variaveis\n",
    "inteiro = 123  # Tipo:int                            \n",
    "texto = \"Luis Carlos\" # Tipo:str\n",
    "real= 10.50            # Tipo:float\n",
    "boleano = True         # Tipo:bool\n"
   ]
  },
  {
   "cell_type": "code",
   "execution_count": 8,
   "metadata": {},
   "outputs": [
    {
     "name": "stdout",
     "output_type": "stream",
     "text": [
      "<class 'str'>\n",
      "<class 'int'>\n",
      "<class 'float'>\n"
     ]
    }
   ],
   "source": [
    "# conversão de variáveis\n",
    "x= str(123)\n",
    "print(type(x))   #inserindo numero porém convertendo para texto\n",
    "# aqui define a variável y\n",
    "y= int(\"123\")   # inserindo texto porém convertendo para numero inteiro\n",
    "print(type(y)) \n",
    "z= float(\"12.3\") # inserindo texto porém convertendo para número racionais(fracionados)\n",
    "print(type(z))\n"
   ]
  },
  {
   "cell_type": "code",
   "execution_count": 6,
   "metadata": {},
   "outputs": [
    {
     "name": "stdout",
     "output_type": "stream",
     "text": [
      "3.3333333333333335\n",
      "1\n"
     ]
    }
   ],
   "source": [
    "print(10/ 3)\n",
    "print(1 % 3)\n",
    "      "
   ]
  },
  {
   "cell_type": "code",
   "execution_count": null,
   "metadata": {},
   "outputs": [],
   "source": [
    "#debugger\n",
    "ano_de_nascimento = int(input(\"Digite seu nome\"))\n"
   ]
  }
 ],
 "metadata": {
  "kernelspec": {
   "display_name": "Python 3",
   "language": "python",
   "name": "python3"
  },
  "language_info": {
   "codemirror_mode": {
    "name": "ipython",
    "version": 3
   },
   "file_extension": ".py",
   "mimetype": "text/x-python",
   "name": "python",
   "nbconvert_exporter": "python",
   "pygments_lexer": "ipython3",
   "version": "3.12.3"
  }
 },
 "nbformat": 4,
 "nbformat_minor": 2
}
