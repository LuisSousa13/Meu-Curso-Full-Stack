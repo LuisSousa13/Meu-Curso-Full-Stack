{
 "cells": [
  {
   "cell_type": "code",
   "execution_count": 5,
   "metadata": {},
   "outputs": [
    {
     "name": "stdout",
     "output_type": "stream",
     "text": [
      "luis carlos\n"
     ]
    }
   ],
   "source": [
    "#QUESTÃO 1\n",
    "nome = \"luis carlos\"\n",
    "print(nome)\n"
   ]
  },
  {
   "cell_type": "code",
   "execution_count": 6,
   "metadata": {},
   "outputs": [
    {
     "name": "stdout",
     "output_type": "stream",
     "text": [
      "O nome da pessoa é Luis carlos e ela tem 35 anos.\n"
     ]
    }
   ],
   "source": [
    "#QUESTÃO 2\n",
    "nome = \"Luis carlos\"\n",
    "idade = 35 \n",
    "print(f\"O nome da pessoa é {nome} e ela tem {idade} anos.\")"
   ]
  },
  {
   "cell_type": "code",
   "execution_count": 3,
   "metadata": {},
   "outputs": [
    {
     "name": "stdout",
     "output_type": "stream",
     "text": [
      "Você possui 35 anos.\n"
     ]
    }
   ],
   "source": [
    "#QUESTÃO 3\n",
    "ano_nascimento = 1989\n",
    "ano_atual =2024\n",
    "idade = ano_atual - ano_nascimento\n",
    "print(\"Você possui\", idade, \"anos.\")"
   ]
  },
  {
   "cell_type": "code",
   "execution_count": 7,
   "metadata": {},
   "outputs": [
    {
     "name": "stdout",
     "output_type": "stream",
     "text": [
      "0\n"
     ]
    }
   ],
   "source": [
    "#QUESTÃO 4\n",
    "modulo = 10 % 2             \n",
    "print(modulo)"
   ]
  },
  {
   "cell_type": "code",
   "execution_count": 1,
   "metadata": {},
   "outputs": [
    {
     "name": "stdout",
     "output_type": "stream",
     "text": [
      "O preço é: 12.6\n"
     ]
    }
   ],
   "source": [
    "#QUESTÃO 5\n",
    "preco = 12.60\n",
    "print(\"O preço é:\", preco)"
   ]
  },
  {
   "cell_type": "code",
   "execution_count": 2,
   "metadata": {},
   "outputs": [
    {
     "name": "stdout",
     "output_type": "stream",
     "text": [
      "42.28\n"
     ]
    }
   ],
   "source": [
    "#QUESTÃO 6\n",
    "numero = 42.285\n",
    "\n",
    "print(round(numero, 2))"
   ]
  }
 ],
 "metadata": {
  "kernelspec": {
   "display_name": "Python 3",
   "language": "python",
   "name": "python3"
  },
  "language_info": {
   "codemirror_mode": {
    "name": "ipython",
    "version": 3
   },
   "file_extension": ".py",
   "mimetype": "text/x-python",
   "name": "python",
   "nbconvert_exporter": "python",
   "pygments_lexer": "ipython3",
   "version": "3.12.3"
  }
 },
 "nbformat": 4,
 "nbformat_minor": 2
}
