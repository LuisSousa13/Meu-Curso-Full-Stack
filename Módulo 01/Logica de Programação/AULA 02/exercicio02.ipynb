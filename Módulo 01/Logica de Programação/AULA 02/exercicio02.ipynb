{
 "cells": [
  {
   "cell_type": "code",
   "execution_count": 3,
   "metadata": {},
   "outputs": [
    {
     "name": "stdout",
     "output_type": "stream",
     "text": [
      "Você não está em idade ativa.\n"
     ]
    }
   ],
   "source": [
    "#Questão 1 Peça ao usuario para inserir sua idade.Se a idade for maior que 18 e menor que 65,exiba a mensagem'você está em idade ativa\".caso contrário,exiba\"você não está em idade ativa\"\n",
    "# Solicita ao usuário para inserir sua idade\n",
    "idade = int(input(\"Por favor, insira sua idade: \"))\n",
    "\n",
    "# Verifica se a idade está entre 18 e 65\n",
    "if idade > 18 and idade < 65:\n",
    "    print(\"Você está em idade ativa.\")\n",
    "else:\n",
    "    print(\"Você não está em idade ativa.\")"
   ]
  },
  {
   "cell_type": "code",
   "execution_count": 5,
   "metadata": {},
   "outputs": [
    {
     "name": "stdout",
     "output_type": "stream",
     "text": [
      "O número é par e maior que 10.\n"
     ]
    }
   ],
   "source": [
    "# Questão 2 Verificação de Paridade \n",
    "# Peça ao usuario para inserir um numero.Verifique se o numero é par e maior que 10.\n",
    "numero = int(input(\"Por favor, insira um número: \"))\n",
    "if numero % 2 == 0 and numero > 10:\n",
    "    print(\"O número é par e maior que 10.\")\n",
    "else:\n",
    "    print(\"O número não atende as condições.\")\n"
   ]
  },
  {
   "cell_type": "code",
   "execution_count": 1,
   "metadata": {},
   "outputs": [
    {
     "name": "stdout",
     "output_type": "stream",
     "text": [
      "Aprovado\n"
     ]
    }
   ],
   "source": [
    "# Questão 3 Verificação de Nota\n",
    "nota = float(input(\"Por favor, insira a nota da prova: \"))\n",
    "\n",
    "if nota >= 7 and nota <= 10:\n",
    "    print(\"Aprovado\")\n",
    "elif nota >= 5 and nota < 7:\n",
    "    print(\"Recuperação\")\n",
    "elif nota < 5:\n",
    "    print(\"Reprovado\")"
   ]
  },
  {
   "cell_type": "code",
   "execution_count": 8,
   "metadata": {},
   "outputs": [
    {
     "name": "stdout",
     "output_type": "stream",
     "text": [
      "O número está no intervalo.\n"
     ]
    }
   ],
   "source": [
    "#Questão 4. Verificação de Intervalo\n",
    "#Peça ao usuário para inserir um número.Verifique se o numero está entre 1 e 100,inclusive.Se estiver,exiba\"o numero está no intervalo\".Caso contrario,exiba\"o numero está fora do intervalo\"A\n",
    "\n",
    "numero = float(input(\"Por favor, insira um número: \"))\n",
    "if numero >= 1 and numero <= 100:\n",
    "    print(\"O número está no intervalo.\")\n",
    "else:\n",
    "    print(\"O número está fora do intervalo.\")"
   ]
  },
  {
   "cell_type": "code",
   "execution_count": 10,
   "metadata": {},
   "outputs": [
    {
     "name": "stdout",
     "output_type": "stream",
     "text": [
      "Login bem-sucedido\n"
     ]
    }
   ],
   "source": [
    "#Questão 5. Login Simples\n",
    "nome_usuario = input(\"Por favor, insira o nome de usuário: \")\n",
    "senha = input(\"Por favor, insira a senha: \")\n",
    "if nome_usuario == \"admin\" and senha == \"1234\":\n",
    "    print(\"Login bem-sucedido\")\n",
    "else:\n",
    "    print(\"Nome de usuário ou senha incorretos\")"
   ]
  },
  {
   "cell_type": "code",
   "execution_count": 12,
   "metadata": {},
   "outputs": [
    {
     "name": "stdout",
     "output_type": "stream",
     "text": [
      "Temperatura extrema\n"
     ]
    }
   ],
   "source": [
    "#Questão 6. Avaliação de Temperatura\n",
    "temperatura = float(input(\"Por favor, insira a temperatura: \"))\n",
    "if temperatura > 30:\n",
    "    print(\"Temperatura extrema\")\n",
    "elif temperatura >= 10 and temperatura <= 30:\n",
    "    print(\"Temperatura normal\")"
   ]
  },
  {
   "cell_type": "code",
   "execution_count": 14,
   "metadata": {},
   "outputs": [
    {
     "name": "stdout",
     "output_type": "stream",
     "text": [
      "Você pode votar\n"
     ]
    }
   ],
   "source": [
    "#Questão 7. Verificação de Voto\n",
    "idade = int(input(\"Por favor, insira sua idade: \"))\n",
    "if idade >= 18:\n",
    "    print(\"Você pode votar\")\n",
    "else:\n",
    "    print(\"Você não pode votar\")"
   ]
  },
  {
   "cell_type": "code",
   "execution_count": 25,
   "metadata": {},
   "outputs": [
    {
     "name": "stdout",
     "output_type": "stream",
     "text": [
      "O número está em um dos intervalos.\n"
     ]
    }
   ],
   "source": [
    "# Questão 8. Verificação de Intervalos Múltiplos\n",
    "numero = int(input(\"Por favor, insira um número: \"))\n",
    "if (numero >= 1 and numero <= 10) or (numero >= 20 and numero <= 30):\n",
    "    print(\"O número está em um dos intervalos.\")\n",
    "else:\n",
    "    print(\"O número está fora dos intervalos.\")"
   ]
  },
  {
   "cell_type": "code",
   "execution_count": 31,
   "metadata": {},
   "outputs": [
    {
     "name": "stdout",
     "output_type": "stream",
     "text": [
      "acesso permitido\n"
     ]
    }
   ],
   "source": [
    "# Questão 9. Acesso a Site\n",
    "idade = int(input(\"Por favor, digte sua idade: \"))\n",
    "permissão =(input(\"voce tem permissão dos pais?\"))\n",
    "if idade >= 18 or permissão == 'sim':\n",
    "    print(\"acesso permitido\")\n",
    "else:\n",
    "    print(\"acesso negado\")"
   ]
  },
  {
   "cell_type": "code",
   "execution_count": 37,
   "metadata": {},
   "outputs": [
    {
     "name": "stdout",
     "output_type": "stream",
     "text": [
      "Valor inválido\n"
     ]
    }
   ],
   "source": [
    "#Questão 10. Validação de Entrada\n",
    "valor =float(input(\"Insira um valor:\"))\n",
    "if valor >= 0 and valor % 1 == 0:\n",
    "    print(\"Valor válido\")\n",
    "else:\n",
    "    print(\"Valor inválido\")\n",
    "    "
   ]
  },
  {
   "cell_type": "code",
   "execution_count": 1,
   "metadata": {},
   "outputs": [
    {
     "name": "stdout",
     "output_type": "stream",
     "text": [
      "O antecessor de 7 é 6\n",
      "O sucessor de 7 é 8\n"
     ]
    }
   ],
   "source": [
    "#programa que informa o antecessor e o sucessor\n",
    "\n",
    "numero = int(input(\"Digite um número: \"))\n",
    "antecessor = numero - 1\n",
    "sucessor = numero + 1\n",
    "print(f\"O antecessor de {numero} é {antecessor}\")\n",
    "print(f\"O sucessor de {numero} é {sucessor}\")\n",
    "\n"
   ]
  },
  {
   "cell_type": "code",
   "execution_count": 2,
   "metadata": {},
   "outputs": [
    {
     "name": "stdout",
     "output_type": "stream",
     "text": [
      "O dobro de 8 é 16\n",
      "O triplo de 8 é 24\n"
     ]
    }
   ],
   "source": [
    "#programa que informa o dobro e o triplo\n",
    "\n",
    "numero = int(input(\"Digite um número: \"))\n",
    "dobro = numero * 2\n",
    "triplo = numero * 3\n",
    "print(f\"O dobro de {numero} é {dobro}\")\n",
    "print(f\"O triplo de {numero} é {triplo}\")\n",
    "\n"
   ]
  },
  {
   "cell_type": "code",
   "execution_count": 6,
   "metadata": {},
   "outputs": [
    {
     "name": "stdout",
     "output_type": "stream",
     "text": [
      "<class 'float'>\n",
      "A media das notas é 7.0\n"
     ]
    }
   ],
   "source": [
    "#programa que informe nota e média\n",
    "\n",
    "nota1 = float(input(\"Digite a primeira nota: \"))\n",
    "nota2 = float(input(\"Digite a segunda nota: \"))\n",
    "nota3 = float(input(\"Digite a terceira nota: \"))\n",
    "nota4 = float(input(\"Digite a quarta nota: \"))\n",
    "media = (nota1 + nota2 + nota3 + nota4) / 4\n",
    "print(type(nota1))\n",
    "print(f'A media das notas é {media}')\n"
   ]
  },
  {
   "cell_type": "code",
   "execution_count": 7,
   "metadata": {},
   "outputs": [
    {
     "name": "stdout",
     "output_type": "stream",
     "text": [
      "5.0 metros equivale a 500.0 centimetros\n"
     ]
    }
   ],
   "source": [
    "#progrma que converta metros em centimetros\n",
    "\n",
    "metros = float(input(\"Digite o valor em metros: \"))\n",
    "centimetros = metros * 100\n",
    "print(f\"{metros} metros equivale a {centimetros} centimetros\")\n",
    "\n"
   ]
  },
  {
   "cell_type": "code",
   "execution_count": 1,
   "metadata": {},
   "outputs": [
    {
     "name": "stdout",
     "output_type": "stream",
     "text": [
      "Você tem 35 anos, é maior de idade\n"
     ]
    }
   ],
   "source": [
    "#programa que informe  ano de nascimento\n",
    "ano_de_nascimento =int(input(\"Digite seu ano de nascimento\"))\n",
    "idade_atual = 2024 - ano_de_nascimento\n",
    "if idade_atual >= 18:\n",
    "    print(f\"Você tem {idade_atual} anos, é maior de idade\")\n",
    "else:\n",
    "    print(f\"Você tem {idade_atual} anos, é menor de idade\")\n",
    "\n"
   ]
  },
  {
   "cell_type": "code",
   "execution_count": 3,
   "metadata": {},
   "outputs": [
    {
     "name": "stdout",
     "output_type": "stream",
     "text": [
      "Incorreto!\n"
     ]
    }
   ],
   "source": [
    "#questão1\n",
    "# Definindo a variável com a fruta\n",
    "fruta = \"maça\"\n",
    "\n",
    "# Pedindo ao usuário para adivinhar a fruta\n",
    "advinhar = input(\"Tente adivinhar a fruta: \")\n",
    "\n",
    "# Verificando se o palpite está correto\n",
    "if advinhar == fruta:\n",
    "    print(\"Correto!\")\n",
    "else:\n",
    "    print(\"Incorreto!\")"
   ]
  },
  {
   "cell_type": "code",
   "execution_count": null,
   "metadata": {},
   "outputs": [],
   "source": [
    "#Questão 2\n",
    "#Programa para definir intervalo do numero de 0 a 10\n",
    "num = int(input('informe um numero'))\n",
    "if num >=0 and num <=\n"
   ]
  },
  {
   "cell_type": "code",
   "execution_count": 27,
   "metadata": {},
   "outputs": [
    {
     "name": "stdout",
     "output_type": "stream",
     "text": [
      "Sua categoria é: Adulto\n"
     ]
    }
   ],
   "source": [
    "#questão 4\n",
    "idade = int(input(\"Digite sua idade: \"))\n",
    "if idade < 0:\n",
    "    categoria = \"Idade inválida!\"\n",
    "elif idade <= 12:\n",
    "    categoria = \"Criança\"\n",
    "elif idade <= 17:\n",
    "    categoria = \"Adolescente\"\n",
    "elif idade <= 64:\n",
    "    categoria = \"Adulto\"\n",
    "else:\n",
    "    categoria = \"Idoso\"\n",
    "print(f\"Sua categoria é: {categoria}\")\n"
   ]
  },
  {
   "cell_type": "code",
   "execution_count": 29,
   "metadata": {},
   "outputs": [
    {
     "name": "stdout",
     "output_type": "stream",
     "text": [
      "O resultado da operação é: 64\n"
     ]
    }
   ],
   "source": [
    "#questão 5\n",
    "# \n",
    "#  operador matematico\n",
    "numero1 = int(input(\"Digite o primeiro número: \"))\n",
    "operador = input(\"Digite o operador matemático (+, -, *, /): \")\n",
    "numero2 = int(input(\"Digite o segundo número: \"))\n",
    "if operador == \"+\":\n",
    "    resultado = numero1 + numero2\n",
    "elif operador == \"-\":\n",
    "    resultado = numero1 - numero2\n",
    "elif operador == \"*\":\n",
    "    resultado = numero1 * numero2\n",
    "elif operador == \"/\":\n",
    "    if numero2 == 0:\n",
    "        resultado = \"Erro: divisão por zero!\"\n",
    "    else:\n",
    "        resultado = numero1 / numero2\n",
    "else:\n",
    "    resultado = \"Operador inválido!\"\n",
    "print(f\"O resultado da operação é: {resultado}\")\n"
   ]
  },
  {
   "cell_type": "code",
   "execution_count": 1,
   "metadata": {},
   "outputs": [
    {
     "name": "stdout",
     "output_type": "stream",
     "text": [
      "A media das notas é: 7.0\n",
      "A média do aluno é 7.00, e ele está aprovado.\n"
     ]
    }
   ],
   "source": [
    "#questão 6.notas\n",
    "\n",
    "nota1 = float(input(\"Digite a primeira nota: \"))\n",
    "nota2 = float(input(\"Digite a segunda nota: \"))\n",
    "nota3 = float(input(\"Digite a terceira nota: \"))\n",
    "media = (nota1 + nota2 + nota3) / 3\n",
    "print(f\"A media das notas é: {media}\")\n",
    "if media >= 7:\n",
    "    status = \"aprovado\"\n",
    "elif 5 <= media < 7:\n",
    "    status = \"em recuperação\"\n",
    "else:\n",
    "    status = \"reprovado\"\n",
    "\n",
    "# Imprime o resultado na tela\n",
    "print(f\"A média do aluno é {media:.2f}, e ele está {status}.\")\n",
    "\n",
    "\n"
   ]
  },
  {
   "cell_type": "code",
   "execution_count": null,
   "metadata": {},
   "outputs": [],
   "source": [
    "#questão 6 notas\n",
    "nota1 = float(input(\"Digite a primeira nota: \"))\n",
    "nota2 = float(input(\"Digite a segunda nota: \"))\n",
    "nota3 = float(input(\"Digite a terceira nota: \"))\n",
    "media = (nota1 + nota2 + nota3) / 3\n",
    "if media >=0 and media <=4:\n",
    "    print(\"reprovado\")\n",
    "    if media >=5 and media <=6:\n",
    "        print(\"em recuperação\")\n",
    "        if media >=7 and media <=10:\n",
    "            print(\"aprovado\")\n",
    "        else:\n",
    "            print(\"nota inválida\")"
   ]
  }
 ],
 "metadata": {
  "kernelspec": {
   "display_name": "Python 3",
   "language": "python",
   "name": "python3"
  },
  "language_info": {
   "codemirror_mode": {
    "name": "ipython",
    "version": 3
   },
   "file_extension": ".py",
   "mimetype": "text/x-python",
   "name": "python",
   "nbconvert_exporter": "python",
   "pygments_lexer": "ipython3",
   "version": "3.12.3"
  }
 },
 "nbformat": 4,
 "nbformat_minor": 2
}
