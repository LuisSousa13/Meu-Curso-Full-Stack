{
 "cells": [
  {
   "cell_type": "code",
   "execution_count": 2,
   "metadata": {},
   "outputs": [
    {
     "name": "stdout",
     "output_type": "stream",
     "text": [
      "O primeiro número é maior\n"
     ]
    }
   ],
   "source": [
    "#Exercicio 05\n",
    "#programa que peça dois numeros ao usuario e diga qual é o maior\n",
    "numero1 = int(input(\"Digite o primeiro número: \"))\n",
    "numero2 = int(input(\"Digite o segundo número: \"))\n",
    "if numero1 > numero2:\n",
    "    print(\"O primeiro número é maior\")"
   ]
  },
  {
   "cell_type": "code",
   "execution_count": 5,
   "metadata": {},
   "outputs": [
    {
     "name": "stdout",
     "output_type": "stream",
     "text": [
      "O maior número é: 8\n",
      "O menor número é: 4\n"
     ]
    }
   ],
   "source": [
    "#Questão 2\n",
    "#Programa que leia três numeros e diga qual é o menor. Faça uso do comando \"max\" e \"min\"\n",
    "\n",
    "numero1 = int(input(\"Digite o primeiro número: \"))\n",
    "numero2 = int(input(\"Digite o segundo número: \"))\n",
    "numero3 = int(input(\"Digite o terceiro número: \"))\n",
    "maior_numero = max(numero1, numero2, numero3)\n",
    "menor_numero = min(numero1, numero2, numero3)\n",
    "print(f\"O maior número é: {maior_numero}\")\n",
    "print(f\"O menor número é: {menor_numero}\")\n",
    "\n"
   ]
  },
  {
   "cell_type": "code",
   "execution_count": 41,
   "metadata": {},
   "outputs": [
    {
     "name": "stdout",
     "output_type": "stream",
     "text": [
      "A letra 'f' é uma consoante.\n"
     ]
    }
   ],
   "source": [
    "#Questão 3\n",
    "#Programa que peça ao usuário uma letra e verifique se é vogal ou consoante.Crie uma unica string com a svogais e faça o uso do \"if letra in vogais\".\n",
    "letra = input(\"Digite uma letra: \")\n",
    "vogais = \"aeiou\"\n",
    "consoantes = \"bcdfghjklmnpqrstvwxyz\"\n",
    "if letra in vogais:\n",
    "    print(f\"A letra {letra} é uma vogal\")\n",
    "else:\n",
    "    print(f\"A letra '{letra}' é uma consoante.\")\n",
    "   \n",
    "\n",
    "\n",
    "\n",
    "    \n",
    "\n",
    "\n",
    "\n",
    "\n",
    "\n",
    "\n"
   ]
  },
  {
   "cell_type": "code",
   "execution_count": null,
   "metadata": {},
   "outputs": [],
   "source": []
  }
 ],
 "metadata": {
  "kernelspec": {
   "display_name": "Python 3",
   "language": "python",
   "name": "python3"
  },
  "language_info": {
   "codemirror_mode": {
    "name": "ipython",
    "version": 3
   },
   "file_extension": ".py",
   "mimetype": "text/x-python",
   "name": "python",
   "nbconvert_exporter": "python",
   "pygments_lexer": "ipython3",
   "version": "3.12.3"
  }
 },
 "nbformat": 4,
 "nbformat_minor": 2
}
